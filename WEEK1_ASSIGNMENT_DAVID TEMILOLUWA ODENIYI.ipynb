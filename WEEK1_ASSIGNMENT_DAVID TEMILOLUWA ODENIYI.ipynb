{
 "cells": [
  {
   "cell_type": "markdown",
   "id": "d2808492-3c0a-4cad-b44b-937a0ab89b0e",
   "metadata": {},
   "source": [
    "### ODENIYI DAVID TEMILOLUWA"
   ]
  },
  {
   "cell_type": "markdown",
   "id": "b3a380b9-98ea-4efa-9d9e-c545ef28dd5f",
   "metadata": {},
   "source": [
    "### ASSIGNMENT 1"
   ]
  },
  {
   "cell_type": "code",
   "execution_count": 1,
   "id": "5070ed3b-f298-4dc1-b570-6cbe11e15149",
   "metadata": {},
   "outputs": [
    {
     "name": "stdin",
     "output_type": "stream",
     "text": [
      "What is your age?  17\n"
     ]
    },
    {
     "name": "stdout",
     "output_type": "stream",
     "text": [
      "Teenager\n"
     ]
    }
   ],
   "source": [
    "#Assignment1\n",
    "age = int(input(\"What is your age? \"))\n",
    "if age < 13:\n",
    "    print(\"Child\")\n",
    "elif age <19:\n",
    "    print(\"Teenager\")\n",
    "else:\n",
    "    age >= 20\n",
    "    print(\"Adult\")"
   ]
  },
  {
   "cell_type": "code",
   "execution_count": 2,
   "id": "3c65e98c-5e8b-4389-b5cb-af854c068717",
   "metadata": {},
   "outputs": [
    {
     "name": "stdin",
     "output_type": "stream",
     "text": [
      "Input a number:  24\n",
      "Input a number:  22\n"
     ]
    },
    {
     "name": "stdout",
     "output_type": "stream",
     "text": [
      "Sum: 46\n",
      "Difference: 2\n",
      "True\n",
      "False\n",
      "False\n"
     ]
    }
   ],
   "source": [
    "#Assignment2\n",
    "val1=int(input(\"Input a number: \"))\n",
    "val2=int(input(\"Input a number: \"))\n",
    "print(\"Sum:\", val1+val2)\n",
    "print(\"Difference:\", val1-val2)\n",
    "print(val1>val2)\n",
    "print(val1==val2)\n",
    "print(val1 >100 or val2 >100)"
   ]
  },
  {
   "cell_type": "code",
   "execution_count": 5,
   "id": "80be822f-c3b6-4b62-b07c-7c0972395a11",
   "metadata": {},
   "outputs": [
    {
     "name": "stdin",
     "output_type": "stream",
     "text": [
      "What is your name?  David Odeniyi\n",
      "What is your matric number?  24CD036555\n",
      "Which course are you studying?  Industrial Mathematics\n",
      "Which level are you?  200 \n",
      "What is the name of your school?  Covenant University\n",
      "Test score for ENG?  77\n",
      "Test score for BIO?  78\n",
      "Test score for CHM?  77\n",
      "Exam score for ENG?  76\n",
      "Exam score for BIO?  78\n",
      "Exam score for CHM?  8\n"
     ]
    },
    {
     "name": "stdout",
     "output_type": "stream",
     "text": [
      "\n",
      " STUDENT RESULT SUMMARY\n",
      "Name: David Odeniyi\n",
      "Matric Number: 24CD036555\n",
      "Course: Industrial Mathematics\n",
      "Level: 200 \n",
      "School: Covenant University\n",
      "ENG: Test = 77, Exam = 76, Total = 153\n",
      "BIO: Test = 77, Exam = 76, Total = 156\n",
      "CHM: Test = 77, Exam = 76, Total = 85\n",
      "Total Score: 394\n",
      "Average Score: 131.33333333333334\n",
      "Highest Score: 156\n",
      "Lowest Score: 85\n"
     ]
    }
   ],
   "source": [
    "# Assignment3 PART A\n",
    "name = input(\"What is your name? \")\n",
    "mat_num = input(\"What is your matric number? \")\n",
    "course = input(\"Which course are you studying? \")\n",
    "level = input(\"Which level are you? \")\n",
    "school = input(\"What is the name of your school? \")\n",
    "#PART B-Collect Course Assesment Scores\n",
    "ts1=int(input(\"Test score for ENG? \"))\n",
    "ts2=int(input(\"Test score for BIO? \"))\n",
    "ts3=int(input(\"Test score for CHM? \"))\n",
    "\n",
    "es1=int(input(\"Exam score for ENG? \"))\n",
    "es2=int(input(\"Exam score for BIO? \"))\n",
    "es3=int(input(\"Exam score for CHM? \"))\n",
    "#PARTC- Perform the following operations\n",
    "tseng= ts1 + es1\n",
    "tsbio= ts2 + es2\n",
    "tschm= ts3 + es3\n",
    "#NO1\n",
    "total_sum = tseng + tsbio + tschm\n",
    "#NO3\n",
    "average = (tseng+tsbio+tschm)/3\n",
    "#NO2\n",
    "highest = max(tseng, tsbio, tschm)\n",
    "lowest = min(tseng, tsbio, tschm)\n",
    "#PARTD- Display Output\n",
    "print(\"\\n STUDENT RESULT SUMMARY\")\n",
    "print(\"Name:\", name)\n",
    "print(\"Matric Number:\", mat_num)\n",
    "print(\"Course:\", course)\n",
    "print(\"Level:\", level)\n",
    "print(\"School:\", school)\n",
    "\n",
    "print(f\"ENG: Test = {ts1}, Exam = {es1}, Total = {tseng}\")\n",
    "print(f\"BIO: Test = {ts1}, Exam = {es1}, Total = {tsbio}\")\n",
    "print(f\"CHM: Test = {ts1}, Exam = {es1}, Total = {tschm}\")\n",
    "\n",
    "print(\"Total Score:\", total_sum)\n",
    "print(\"Average Score:\", average)\n",
    "print(\"Highest Score:\", highest)\n",
    "print(\"Lowest Score:\", lowest)"
   ]
  },
  {
   "cell_type": "markdown",
   "id": "439dfc8b-bd16-43ae-9294-7ba1cb9afdd4",
   "metadata": {},
   "source": [
    "###  ASSIGNMENT 2"
   ]
  },
  {
   "cell_type": "code",
   "execution_count": 1,
   "id": "ac9ec3e8-1c69-4930-8f69-2f76b453699e",
   "metadata": {},
   "outputs": [
    {
     "name": "stdin",
     "output_type": "stream",
     "text": [
      "Enter a sentence:  David is a good boy\n",
      "Enter a word to search for:  good\n"
     ]
    },
    {
     "name": "stdout",
     "output_type": "stream",
     "text": [
      "The word 'good' was found in position 11\n"
     ]
    }
   ],
   "source": [
    "#Assignment1\n",
    "sentence = input(\"Enter a sentence: \")\n",
    "word = input(\"Enter a word to search for: \")\n",
    "if word in sentence:\n",
    "    print(f\"The word '{word}' was found in position {sentence.find(word)}\")\n",
    "else:\n",
    "    print(\"The word does not exist in sentence\")"
   ]
  },
  {
   "cell_type": "code",
   "execution_count": 2,
   "id": "e11a996e-f96a-43eb-ac7a-f28d1ecbc3c3",
   "metadata": {},
   "outputs": [
    {
     "name": "stdin",
     "output_type": "stream",
     "text": [
      "Enter your full name  Odeniyi David Temiloluwa\n",
      "Enter your age  17\n",
      "Enter your school  Covenant University\n",
      "Enter your fav_sub  Mathematics\n"
     ]
    },
    {
     "name": "stdout",
     "output_type": "stream",
     "text": [
      "Using concatination(+):\n",
      "Hello, my name is Odeniyi David Temiloluwa.I am 17 years old.  I attend Covenant University and I love Mathematics\n",
      "Using f-string:\n",
      "Hello, my name is Odeniyi David Temiloluwa I am 17 years old. I attend Covenant University and I love Mathematics\n",
      "Using .format():\n",
      "Hello, my name is Odeniyi David Temiloluwa I am 17 years old. I attend Covenant University and I love Mathematics.\n"
     ]
    }
   ],
   "source": [
    "#Assignment2\n",
    "name=input(\"Enter your full name \")\n",
    "age=input(\"Enter your age \")\n",
    "school=input(\"Enter your school \")\n",
    "fav_subject=input(\"Enter your fav_sub \")\n",
    "print(\"Using concatination(+):\")\n",
    "print(\"Hello, my name is \" + name  + \".I am \" + str(age) + \" years old. \" \" I attend \"+ school + \" and I love \" + fav_subject)\n",
    "print(\"Using f-string:\")\n",
    "print(f\"Hello, my name is {name} I am {age} years old. I attend {school} and I love {fav_subject}\")\n",
    "print(\"Using .format():\")\n",
    "print(\"Hello, my name is {} I am {} years old. I attend {} and I love {}.\".format(name,age,school,fav_subject))"
   ]
  },
  {
   "cell_type": "code",
   "execution_count": 3,
   "id": "d5392d62-fba3-47a3-86e3-6d9f138ffae0",
   "metadata": {},
   "outputs": [
    {
     "name": "stdin",
     "output_type": "stream",
     "text": [
      "Enter a sentence:  David is a good boy\n"
     ]
    },
    {
     "name": "stdout",
     "output_type": "stream",
     "text": [
      "David is a good boy\n",
      " List of words:  ['David', 'is', 'a', 'good', 'boy']\n",
      "\n",
      " Uppercase: DAVID IS A GOOD BOY\n",
      "Lowercase: david is a good boy\n"
     ]
    }
   ],
   "source": [
    "#Assignment3\n",
    "sentence = input(\"Enter a sentence: \")\n",
    "index = 0\n",
    "while index < len(sentence):\n",
    "    word = sentence[index]\n",
    "    print(word, end=\"\")\n",
    "    index+=1\n",
    "    \n",
    "print(\"\\n List of words: \", sentence.split())\n",
    "sentence = sentence.upper()\n",
    "print(\"\\n Uppercase:\", sentence)\n",
    "sentence = sentence.lower()\n",
    "print(\"Lowercase:\",sentence)"
   ]
  },
  {
   "cell_type": "markdown",
   "id": "fabd50c4-0fc5-4322-94b6-3a80a279a4a8",
   "metadata": {},
   "source": [
    "### ASSIGNMENT 3"
   ]
  },
  {
   "cell_type": "code",
   "execution_count": 4,
   "id": "5bba7ed0-96c0-468d-91d7-4b101b381686",
   "metadata": {},
   "outputs": [
    {
     "name": "stdin",
     "output_type": "stream",
     "text": [
      "input item 1  milk\n",
      "input item 2  Milo\n",
      "input item 3  Pen\n",
      "input item 4  Book\n",
      "input item 5  Textbook\n"
     ]
    },
    {
     "name": "stdout",
     "output_type": "stream",
     "text": [
      "shopping_list:  ['milk', 'Milo', 'Pen', 'Book', 'Textbook']\n",
      "Number of items: 5\n",
      "milk is in shopping list\n"
     ]
    }
   ],
   "source": [
    "#QU1\n",
    "item1=input(\"input item 1 \")\n",
    "item2=input(\"input item 2 \")\n",
    "item3=input(\"input item 3 \")\n",
    "item4=input(\"input item 4 \")\n",
    "item5=input(\"input item 5 \")\n",
    "\n",
    "shopping_list = [item1, item2, item3, item4, item5]\n",
    "\n",
    "print(\"shopping_list: \", shopping_list)\n",
    "\n",
    "print(\"Number of items:\", len(shopping_list))\n",
    "\n",
    "if \"milk\" in shopping_list:\n",
    "    print(\"milk is in shopping list\")\n",
    "else:\n",
    "    print(\"milk is not in shopping list\")"
   ]
  },
  {
   "cell_type": "code",
   "execution_count": 5,
   "id": "23dbc0f4-12e3-462d-b885-67200dcf59de",
   "metadata": {},
   "outputs": [
    {
     "name": "stdout",
     "output_type": "stream",
     "text": [
      "First Snacks: yougurt\n",
      "Last Snacks: groundnut\n",
      "Middle 3 Snacks: ('cookies', 'biscuit', 'popcorn')\n"
     ]
    }
   ],
   "source": [
    "#QU2\n",
    "snacks= (\"yougurt\", \"cookies\", \"biscuit\", \"popcorn\", \"groundnut\")\n",
    "print(\"First Snacks:\", snacks[0])\n",
    "print(\"Last Snacks:\", snacks[-1])\n",
    "print(\"Middle 3 Snacks:\", snacks[1:4])"
   ]
  },
  {
   "cell_type": "code",
   "execution_count": 6,
   "id": "685078e0-3370-4bb1-a76d-a704a37cb8af",
   "metadata": {},
   "outputs": [
    {
     "name": "stdin",
     "output_type": "stream",
     "text": [
      "Enter a number:  22\n",
      "Enter a number:  21\n",
      "Enter a number:  23\n"
     ]
    },
    {
     "name": "stdout",
     "output_type": "stream",
     "text": [
      "Maximum of Numbers: 23.0\n",
      "Minimum of Numbers: 21.0\n",
      "Sum of Numbers: 66.0\n"
     ]
    }
   ],
   "source": [
    "#QU3\n",
    "num1 = float(input(\"Enter a number: \"))\n",
    "num2 = float(input(\"Enter a number: \"))\n",
    "num3 = float(input(\"Enter a number: \"))\n",
    "numbers = [num1, num2, num3]\n",
    "print(\"Maximum of Numbers:\", max(numbers))\n",
    "print(\"Minimum of Numbers:\", min(numbers))\n",
    "print(\"Sum of Numbers:\", sum(numbers))"
   ]
  },
  {
   "cell_type": "code",
   "execution_count": null,
   "id": "d73bda88-dd56-41f7-9340-62996ac40ab4",
   "metadata": {},
   "outputs": [],
   "source": []
  }
 ],
 "metadata": {
  "kernelspec": {
   "display_name": "Python 3 (ipykernel)",
   "language": "python",
   "name": "python3"
  },
  "language_info": {
   "codemirror_mode": {
    "name": "ipython",
    "version": 3
   },
   "file_extension": ".py",
   "mimetype": "text/x-python",
   "name": "python",
   "nbconvert_exporter": "python",
   "pygments_lexer": "ipython3",
   "version": "3.13.2"
  }
 },
 "nbformat": 4,
 "nbformat_minor": 5
}
