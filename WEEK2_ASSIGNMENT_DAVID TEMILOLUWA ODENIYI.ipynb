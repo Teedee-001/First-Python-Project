{
 "cells": [
  {
   "cell_type": "markdown",
   "id": "60036d3e-47c0-423a-8117-b368b6828060",
   "metadata": {},
   "source": [
    "### ODENIYI DAVID TEMILOLUWA"
   ]
  },
  {
   "cell_type": "markdown",
   "id": "3d4d6156-2d87-4b02-aeb9-f49bf50ca562",
   "metadata": {},
   "source": [
    "### ASSIGNMENT 1"
   ]
  },
  {
   "cell_type": "markdown",
   "id": "465663e6-c1f3-424c-890a-90cd42a5b75c",
   "metadata": {},
   "source": [
    "##### List Assignment (Student Score Entry)"
   ]
  },
  {
   "cell_type": "code",
   "execution_count": 33,
   "id": "c9429b49-3ab1-4181-bbdf-f0e0991b97c5",
   "metadata": {},
   "outputs": [
    {
     "name": "stdin",
     "output_type": "stream",
     "text": [
      "How many student scores do you want to record? 3\n",
      "Enter score 1: 55\n",
      "Enter score 2: 78\n",
      "Enter score 3: 88\n"
     ]
    },
    {
     "name": "stdout",
     "output_type": "stream",
     "text": [
      "Full list of Score:  [55, 78, 88]\n",
      "Total Score:  221\n",
      "Highest Score:  88\n",
      "Lowest Score:  55\n",
      "Average Score:  3\n",
      "Ascending order of Score:  [55, 78, 88]\n",
      "Decending order of Score:  [88, 78, 55]\n"
     ]
    }
   ],
   "source": [
    "scores = int(input(\"How many student scores do you want to record?\"))\n",
    "std_score = []\n",
    "for i in range(scores):\n",
    "    score = int(input((f\"Enter score {i + 1}:\")))\n",
    "    std_score.append(score)\n",
    "print(\"Full list of Score: \", std_score)\n",
    "total = print(\"Total Score: \", sum(std_score))\n",
    "highest = print(\"Highest Score: \", max(std_score))\n",
    "lowest = print(\"Lowest Score: \", min(std_score))\n",
    "average = print(\"Average Score: \", len(std_score))\n",
    "ascending_order = print(\"Ascending order of Score: \", sorted(std_score))\n",
    "decending_order = print(\"Decending order of Score: \", sorted(std_score, reverse = True))"
   ]
  },
  {
   "cell_type": "markdown",
   "id": "29999c10-051d-4e10-9f33-0cf410f13223",
   "metadata": {},
   "source": [
    "### ASSIGNMENT 2"
   ]
  },
  {
   "cell_type": "markdown",
   "id": "0b345098-cb04-4a3a-b1a9-01f1761709ff",
   "metadata": {},
   "source": [
    "##### Tuple Assignment (Team Selection) "
   ]
  },
  {
   "cell_type": "code",
   "execution_count": 27,
   "id": "e3dae925-1311-4f91-8b42-f8024b1a4ca8",
   "metadata": {},
   "outputs": [
    {
     "name": "stdin",
     "output_type": "stream",
     "text": [
      "How many top-selling products this week? 5\n",
      "Enter product 1: Pen\n",
      "Enter product 2: Pencil\n",
      "Enter product 3: Ruler\n",
      "Enter product 4: Sugar\n",
      "Enter product 5: Rice\n"
     ]
    },
    {
     "name": "stdout",
     "output_type": "stream",
     "text": [
      "\n",
      "Top-Selling Products:  ('Pen', 'Pencil', 'Ruler', 'Sugar', 'Rice')\n",
      "\n",
      "First Product:  Pen\n",
      "Last Product:  Rice\n",
      "Middle Product:  Sugar\n",
      "\n",
      "Top three Product:  ('Pen', 'Pencil', 'Ruler')\n",
      "Last two Product:  ('Sugar', 'Rice')\n"
     ]
    },
    {
     "name": "stdin",
     "output_type": "stream",
     "text": [
      "\n",
      "Enter a product to check in the products:  Beans\n"
     ]
    },
    {
     "name": "stdout",
     "output_type": "stream",
     "text": [
      "Is Beans in the list? False\n",
      "\n",
      "Total top Products:  5\n"
     ]
    },
    {
     "name": "stdin",
     "output_type": "stream",
     "text": [
      "Enter a new product:  Beans\n",
      "Enter a another new product:  Fish\n"
     ]
    },
    {
     "name": "stdout",
     "output_type": "stream",
     "text": [
      "\n",
      "Updated Product List:  ('Pen', 'Pencil', 'Ruler', 'Sugar', 'Rice', 'Beans', 'Fish')\n"
     ]
    }
   ],
   "source": [
    "top_products = int(input(\"How many top-selling products this week?\"))\n",
    "products = []\n",
    "for i in range(top_products):\n",
    "    item = input((f\"Enter product {i + 1}:\"))\n",
    "    products.append(item)\n",
    "\n",
    "top_products = tuple(products)\n",
    "print(\"\\nTop-Selling Products: \", top_products)\n",
    "\n",
    "print(\"\\nFirst Product: \", top_products[0])\n",
    "print(\"Last Product: \", top_products[-1])\n",
    "print(\"Middle Product: \", top_products[-2])\n",
    "\n",
    "print(\"\\nTop three Product: \", top_products[0:3])\n",
    "print(\"Last two Product: \", top_products[3:6])\n",
    "\n",
    "check = input(\"\\nEnter a product to check in the products: \")\n",
    "print(f\"Is {check} in the list?\", check in top_products)\n",
    "\n",
    "print(\"\\nTotal top Products: \",len(top_products))\n",
    "\n",
    "product_list = list(top_products)\n",
    "product_list.append(input(\"Enter a new product: \"))\n",
    "product_list.append(input(\"Enter a another new product: \"))\n",
    "tuple_form = tuple(product_list)\n",
    "\n",
    "print(\"\\nUpdated Product List: \", tuple_form)"
   ]
  },
  {
   "cell_type": "markdown",
   "id": "32845961-b0c2-4cd0-9bc2-04b56e7d0ea6",
   "metadata": {},
   "source": [
    "### ASSIGNMENT 3"
   ]
  },
  {
   "cell_type": "markdown",
   "id": "198c2014-dc66-4701-bc06-668e481adca6",
   "metadata": {},
   "source": [
    "##### Set Assignment (Course Enrollment Checker) "
   ]
  },
  {
   "cell_type": "code",
   "execution_count": 112,
   "id": "72b46361-d2ce-40af-bf58-7f3008408e2a",
   "metadata": {},
   "outputs": [
    {
     "name": "stdin",
     "output_type": "stream",
     "text": [
      "How many courses in Dept A? 2\n",
      "Enter course 1 for DEPT A::  MTH122\n",
      "Enter course 2 for DEPT A::  CSC122\n",
      "\n",
      "How many courses in Dept B? 2\n",
      "Enter course 1 for DEPT B:  PHY122\n",
      "Enter course 2 for DEPT B:  MTH122\n"
     ]
    },
    {
     "name": "stdout",
     "output_type": "stream",
     "text": [
      "\n",
      "Courses in Dept. A:  {'CSC122', 'MTH122'}\n",
      "Courses in Dept. B:  {'PHY122', 'MTH122'}\n",
      "\n",
      "Common Courses:  {'MTH122'}\n",
      "Courses Only in Dept. A:  {'CSC122'}\n",
      "All Offered Courses:  {'CSC122', 'PHY122', 'MTH122'}\n"
     ]
    }
   ],
   "source": [
    "num_courses = int(input(\"How many courses in Dept A?\"))\n",
    "courses_a = {input(f\"Enter course {i + 1} for DEPT A:: \") for i in range(num_courses)}\n",
    "\n",
    "\n",
    "num_courses = int(input(\"\\nHow many courses in Dept B?\"))\n",
    "courses_b = {input(f\"Enter course {i + 1} for DEPT B: \") for i in range(num_courses)}\n",
    "\n",
    "\n",
    "print(\"\\nCourses in Dept. A: \", courses_a)\n",
    "print(\"Courses in Dept. B: \", courses_b)\n",
    "\n",
    "print(\"\\nCommon Courses: \", courses_a.intersection(courses_b))\n",
    "print(\"Courses Only in Dept. A: \", courses_a.difference(courses_b))\n",
    "print(\"All Offered Courses: \", courses_a.union(courses_b))"
   ]
  },
  {
   "cell_type": "markdown",
   "id": "97cae46c-cb29-4ce1-92ac-6b0b7e6dcaf8",
   "metadata": {},
   "source": [
    "### ASSIGNMENT 4"
   ]
  },
  {
   "cell_type": "markdown",
   "id": "1e0f6811-afcb-43cd-b035-844ac82e3ade",
   "metadata": {},
   "source": [
    "##### Dictionary Assignment (Library Book Inventory) "
   ]
  },
  {
   "cell_type": "code",
   "execution_count": 32,
   "id": "c85908cd-ab8e-4d52-9faa-3c9ab7ab2484",
   "metadata": {},
   "outputs": [
    {
     "name": "stdin",
     "output_type": "stream",
     "text": [
      "How many books would you like to add?  2\n",
      "Enter the title of book 1:  Python Basics\n",
      "Enter number of copies for 'Python Basics':  5\n",
      "Enter the title of book 2:  Data Analysis\n",
      "Enter number of copies for 'Data Analysis':  3\n"
     ]
    },
    {
     "name": "stdout",
     "output_type": "stream",
     "text": [
      "\n",
      "Library Inventory:  {'Python Basics': 5, 'Data Analysis': 3}\n"
     ]
    },
    {
     "name": "stdin",
     "output_type": "stream",
     "text": [
      "\n",
      "Enter the book title to check copies:  Data Analysis\n"
     ]
    },
    {
     "name": "stdout",
     "output_type": "stream",
     "text": [
      "How many copies of 'Data Analysis'?: 3\n"
     ]
    },
    {
     "name": "stdin",
     "output_type": "stream",
     "text": [
      "Enter new number of copies for Data Analysis:  5\n"
     ]
    },
    {
     "name": "stdout",
     "output_type": "stream",
     "text": [
      "Updated Data Analysis copies to 5 \n"
     ]
    },
    {
     "name": "stdin",
     "output_type": "stream",
     "text": [
      "\n",
      "Enter the title of the book to delete:  Python Basics\n"
     ]
    },
    {
     "name": "stdout",
     "output_type": "stream",
     "text": [
      "Deleted Python Basics from inventory\n"
     ]
    },
    {
     "name": "stdin",
     "output_type": "stream",
     "text": [
      "\n",
      "Enter a new book title to add:  Java Basics\n"
     ]
    },
    {
     "name": "stdout",
     "output_type": "stream",
     "text": [
      "Added new book with default: Java Basics\n",
      "\n",
      "Available Books: dict_keys(['Data Analysis', 'Java Basics'])\n",
      "\n",
      "Book Counts: dict_values([5, 1])\n",
      "\n",
      "Inventory Details: dict_items([('Data Analysis', 5), ('Java Basics', 1)])\n"
     ]
    }
   ],
   "source": [
    "num_books = int(input(\"How many books would you like to add? \"))\n",
    "library = {}\n",
    "for i in range(num_books):\n",
    "    title = input(f\"Enter the title of book {i+1}: \")\n",
    "    copies = int(input(f\"Enter number of copies for '{title}': \"))\n",
    "    library[title] = copies\n",
    "\n",
    "print(\"\\nLibrary Inventory: \", library)\n",
    "\n",
    "book_check = input(\"\\nEnter the book title to check copies: \")\n",
    "print(f\"How many copies of '{book_check}'?:\", library.get(book_check, \"Book not found\"))\n",
    "\n",
    "if book_check in library:\n",
    "    new_copies = int(input(f\"Enter new number of copies for {book_check}: \"))\n",
    "    library[book_check] = new_copies\n",
    "    print(f\"Updated {book_check} copies to {new_copies} \")\n",
    "\n",
    "del_book = input(\"\\nEnter the title of the book to delete: \")\n",
    "if del_book in library:\n",
    "    del library[del_book]\n",
    "    print(f\"Deleted {del_book} from inventory\")\n",
    "\n",
    "new_book = input(\"\\nEnter a new book title to add: \")\n",
    "library.setdefault(new_book, 1)\n",
    "print(f\"Added new book with default: {new_book}\")\n",
    "\n",
    "print(\"\\nAvailable Books:\", library.keys())\n",
    "\n",
    "print(\"\\nBook Counts:\", library.values())\n",
    "\n",
    "print(\"\\nInventory Details:\", library.items())"
   ]
  },
  {
   "cell_type": "markdown",
   "id": "ae33049f-ba88-4909-b576-1ccd82b42e46",
   "metadata": {},
   "source": [
    "### ASSIGNMENT 5"
   ]
  },
  {
   "cell_type": "markdown",
   "id": "5cb1906d-0cfe-448e-af0d-cb217ff07094",
   "metadata": {},
   "source": [
    "##### If-Else Assignment (Admission Eligibility Checker) "
   ]
  },
  {
   "cell_type": "code",
   "execution_count": 47,
   "id": "40686adb-1bda-4252-8cec-83071c94c1c9",
   "metadata": {},
   "outputs": [
    {
     "name": "stdin",
     "output_type": "stream",
     "text": [
      "Enter your JAMB score:  220\n"
     ]
    },
    {
     "name": "stdout",
     "output_type": "stream",
     "text": [
      "Eligible for Admission!\n"
     ]
    }
   ],
   "source": [
    "score = int(input(\"Enter your JAMB score: \"))\n",
    "if score >= 180:\n",
    "    print(\"Eligible for Admission!\")\n",
    "else:\n",
    "    print(\"Not eligible, try again next year\")"
   ]
  },
  {
   "cell_type": "markdown",
   "id": "dc74090b-1378-46a6-a600-37abb18b8721",
   "metadata": {},
   "source": [
    "### ASSIGNMENT 6"
   ]
  },
  {
   "cell_type": "markdown",
   "id": "12fe2a00-61ae-45d8-a352-6afb9ae6bb02",
   "metadata": {},
   "source": [
    "##### If-Elif-Else Assignment (Loan Approval System) "
   ]
  },
  {
   "cell_type": "code",
   "execution_count": 58,
   "id": "fb2c1d40-692f-407a-9b77-90d9db38a605",
   "metadata": {},
   "outputs": [
    {
     "name": "stdin",
     "output_type": "stream",
     "text": [
      "Enter your age:  18\n"
     ]
    },
    {
     "name": "stdout",
     "output_type": "stream",
     "text": [
      "Eligible for student/youth loan\n"
     ]
    }
   ],
   "source": [
    "age = int(input(\"Enter your age: \"))\n",
    "if age < 18:\n",
    "    print(\"Not eligible for a loan\")\n",
    "elif age <= 30:\n",
    "    print(\"Eligible for student/youth loan\")\n",
    "elif age <= 50:\n",
    "    print(\"Eligible for standard loan\")\n",
    "else:\n",
    "    print(\"Eligible for senior citizen loan\")"
   ]
  },
  {
   "cell_type": "markdown",
   "id": "2a65a243-567f-4257-b720-5b3c440e5146",
   "metadata": {},
   "source": [
    "### ASSIGNMENT 7"
   ]
  },
  {
   "cell_type": "markdown",
   "id": "3d2b397d-2d16-4274-a5e6-0b50c96ca212",
   "metadata": {},
   "source": [
    "##### Nested If Assignment (Student Grading System) "
   ]
  },
  {
   "cell_type": "code",
   "execution_count": 76,
   "id": "ac1fc77b-b43f-4a93-b098-52f2691a68c9",
   "metadata": {},
   "outputs": [
    {
     "name": "stdin",
     "output_type": "stream",
     "text": [
      "Enter your score:  43\n",
      "Enter Subject:  Math\n"
     ]
    },
    {
     "name": "stdout",
     "output_type": "stream",
     "text": [
      "Fail\n"
     ]
    }
   ],
   "source": [
    "score = int(input(\"Enter your score: \"))\n",
    "subject = input(\"Enter Subject: \")\n",
    "if score >= 70:\n",
    "    if subject.lower() == \"math\":\n",
    "        print(\"Excellence in Math\")\n",
    "    else:\n",
    "        print(\"Excellent\")\n",
    "elif  50 <= score < 70:\n",
    "    print(\"Good\")\n",
    "else:\n",
    "    print(\"Fail\")"
   ]
  },
  {
   "cell_type": "markdown",
   "id": "2402a330-5a5b-4738-86f4-5af50f7b3fb8",
   "metadata": {},
   "source": [
    "### ASSIGNMENT 8"
   ]
  },
  {
   "cell_type": "markdown",
   "id": "84560b7b-a96b-4799-bd4e-70a5043d43d5",
   "metadata": {},
   "source": [
    "##### While Loop Assignment (Odd Numbers 1-100) "
   ]
  },
  {
   "cell_type": "code",
   "execution_count": 78,
   "id": "47503fae-0ec7-4a0b-b119-b7844e31f03e",
   "metadata": {},
   "outputs": [
    {
     "name": "stdout",
     "output_type": "stream",
     "text": [
      "1 3 5 7 9 11 13 15 17 19 21 23 25 27 29 31 33 35 37 39 41 43 45 47 49 51 53 55 57 59 61 63 65 67 69 71 73 75 77 79 81 83 85 87 89 91 93 95 97 99 "
     ]
    }
   ],
   "source": [
    "#Horizontal Version\n",
    "val = 1\n",
    "while val <= 100:\n",
    "    print(val, end = \" \")\n",
    "    val += 2"
   ]
  },
  {
   "cell_type": "code",
   "execution_count": 79,
   "id": "0b83a978-788c-47a4-acd1-e0492c6ab7fa",
   "metadata": {},
   "outputs": [
    {
     "name": "stdout",
     "output_type": "stream",
     "text": [
      "1\n",
      "3\n",
      "5\n",
      "7\n",
      "9\n",
      "11\n",
      "13\n",
      "15\n",
      "17\n",
      "19\n",
      "21\n",
      "23\n",
      "25\n",
      "27\n",
      "29\n",
      "31\n",
      "33\n",
      "35\n",
      "37\n",
      "39\n",
      "41\n",
      "43\n",
      "45\n",
      "47\n",
      "49\n",
      "51\n",
      "53\n",
      "55\n",
      "57\n",
      "59\n",
      "61\n",
      "63\n",
      "65\n",
      "67\n",
      "69\n",
      "71\n",
      "73\n",
      "75\n",
      "77\n",
      "79\n",
      "81\n",
      "83\n",
      "85\n",
      "87\n",
      "89\n",
      "91\n",
      "93\n",
      "95\n",
      "97\n",
      "99\n"
     ]
    }
   ],
   "source": [
    "#Vertical Version\n",
    "val = 1\n",
    "while val <= 100:\n",
    "    print(val)\n",
    "    val += 2"
   ]
  },
  {
   "cell_type": "markdown",
   "id": "1f34e295-011f-4e0d-ace6-18fa7e14ceed",
   "metadata": {},
   "source": [
    "### ASSIGNMENT 9"
   ]
  },
  {
   "cell_type": "markdown",
   "id": "1dfc744b-0967-49f7-8fa2-52b187ca101c",
   "metadata": {},
   "source": [
    "##### For Loop Assignment (Multiplication Table) "
   ]
  },
  {
   "cell_type": "code",
   "execution_count": 81,
   "id": "296ba587-8c7b-4056-ad08-3f486433cb96",
   "metadata": {},
   "outputs": [
    {
     "name": "stdout",
     "output_type": "stream",
     "text": [
      "\n",
      "Multiplication Table for 1\n",
      "1 × 1 = 1\n",
      "1 × 2 = 2\n",
      "1 × 3 = 3\n",
      "1 × 4 = 4\n",
      "1 × 5 = 5\n",
      "1 × 6 = 6\n",
      "1 × 7 = 7\n",
      "1 × 8 = 8\n",
      "1 × 9 = 9\n",
      "1 × 10 = 10\n",
      "1 × 11 = 11\n",
      "1 × 12 = 12\n",
      "\n",
      "Multiplication Table for 2\n",
      "2 × 1 = 2\n",
      "2 × 2 = 4\n",
      "2 × 3 = 6\n",
      "2 × 4 = 8\n",
      "2 × 5 = 10\n",
      "2 × 6 = 12\n",
      "2 × 7 = 14\n",
      "2 × 8 = 16\n",
      "2 × 9 = 18\n",
      "2 × 10 = 20\n",
      "2 × 11 = 22\n",
      "2 × 12 = 24\n",
      "\n",
      "Multiplication Table for 3\n",
      "3 × 1 = 3\n",
      "3 × 2 = 6\n",
      "3 × 3 = 9\n",
      "3 × 4 = 12\n",
      "3 × 5 = 15\n",
      "3 × 6 = 18\n",
      "3 × 7 = 21\n",
      "3 × 8 = 24\n",
      "3 × 9 = 27\n",
      "3 × 10 = 30\n",
      "3 × 11 = 33\n",
      "3 × 12 = 36\n",
      "\n",
      "Multiplication Table for 4\n",
      "4 × 1 = 4\n",
      "4 × 2 = 8\n",
      "4 × 3 = 12\n",
      "4 × 4 = 16\n",
      "4 × 5 = 20\n",
      "4 × 6 = 24\n",
      "4 × 7 = 28\n",
      "4 × 8 = 32\n",
      "4 × 9 = 36\n",
      "4 × 10 = 40\n",
      "4 × 11 = 44\n",
      "4 × 12 = 48\n",
      "\n",
      "Multiplication Table for 5\n",
      "5 × 1 = 5\n",
      "5 × 2 = 10\n",
      "5 × 3 = 15\n",
      "5 × 4 = 20\n",
      "5 × 5 = 25\n",
      "5 × 6 = 30\n",
      "5 × 7 = 35\n",
      "5 × 8 = 40\n",
      "5 × 9 = 45\n",
      "5 × 10 = 50\n",
      "5 × 11 = 55\n",
      "5 × 12 = 60\n",
      "\n",
      "Multiplication Table for 6\n",
      "6 × 1 = 6\n",
      "6 × 2 = 12\n",
      "6 × 3 = 18\n",
      "6 × 4 = 24\n",
      "6 × 5 = 30\n",
      "6 × 6 = 36\n",
      "6 × 7 = 42\n",
      "6 × 8 = 48\n",
      "6 × 9 = 54\n",
      "6 × 10 = 60\n",
      "6 × 11 = 66\n",
      "6 × 12 = 72\n",
      "\n",
      "Multiplication Table for 7\n",
      "7 × 1 = 7\n",
      "7 × 2 = 14\n",
      "7 × 3 = 21\n",
      "7 × 4 = 28\n",
      "7 × 5 = 35\n",
      "7 × 6 = 42\n",
      "7 × 7 = 49\n",
      "7 × 8 = 56\n",
      "7 × 9 = 63\n",
      "7 × 10 = 70\n",
      "7 × 11 = 77\n",
      "7 × 12 = 84\n",
      "\n",
      "Multiplication Table for 8\n",
      "8 × 1 = 8\n",
      "8 × 2 = 16\n",
      "8 × 3 = 24\n",
      "8 × 4 = 32\n",
      "8 × 5 = 40\n",
      "8 × 6 = 48\n",
      "8 × 7 = 56\n",
      "8 × 8 = 64\n",
      "8 × 9 = 72\n",
      "8 × 10 = 80\n",
      "8 × 11 = 88\n",
      "8 × 12 = 96\n",
      "\n",
      "Multiplication Table for 9\n",
      "9 × 1 = 9\n",
      "9 × 2 = 18\n",
      "9 × 3 = 27\n",
      "9 × 4 = 36\n",
      "9 × 5 = 45\n",
      "9 × 6 = 54\n",
      "9 × 7 = 63\n",
      "9 × 8 = 72\n",
      "9 × 9 = 81\n",
      "9 × 10 = 90\n",
      "9 × 11 = 99\n",
      "9 × 12 = 108\n",
      "\n",
      "Multiplication Table for 10\n",
      "10 × 1 = 10\n",
      "10 × 2 = 20\n",
      "10 × 3 = 30\n",
      "10 × 4 = 40\n",
      "10 × 5 = 50\n",
      "10 × 6 = 60\n",
      "10 × 7 = 70\n",
      "10 × 8 = 80\n",
      "10 × 9 = 90\n",
      "10 × 10 = 100\n",
      "10 × 11 = 110\n",
      "10 × 12 = 120\n",
      "\n",
      "Multiplication Table for 11\n",
      "11 × 1 = 11\n",
      "11 × 2 = 22\n",
      "11 × 3 = 33\n",
      "11 × 4 = 44\n",
      "11 × 5 = 55\n",
      "11 × 6 = 66\n",
      "11 × 7 = 77\n",
      "11 × 8 = 88\n",
      "11 × 9 = 99\n",
      "11 × 10 = 110\n",
      "11 × 11 = 121\n",
      "11 × 12 = 132\n",
      "\n",
      "Multiplication Table for 12\n",
      "12 × 1 = 12\n",
      "12 × 2 = 24\n",
      "12 × 3 = 36\n",
      "12 × 4 = 48\n",
      "12 × 5 = 60\n",
      "12 × 6 = 72\n",
      "12 × 7 = 84\n",
      "12 × 8 = 96\n",
      "12 × 9 = 108\n",
      "12 × 10 = 120\n",
      "12 × 11 = 132\n",
      "12 × 12 = 144\n"
     ]
    }
   ],
   "source": [
    "for a in range(1, 13):\n",
    "    print(f\"\\nMultiplication Table for\", a)\n",
    "    for b in range(1, 13):\n",
    "        print(f\"{a} × {b} = {a * b}\")"
   ]
  },
  {
   "cell_type": "code",
   "execution_count": null,
   "id": "42d1e512-7163-4373-80b3-072763b13239",
   "metadata": {},
   "outputs": [],
   "source": []
  }
 ],
 "metadata": {
  "kernelspec": {
   "display_name": "Python 3 (ipykernel)",
   "language": "python",
   "name": "python3"
  },
  "language_info": {
   "codemirror_mode": {
    "name": "ipython",
    "version": 3
   },
   "file_extension": ".py",
   "mimetype": "text/x-python",
   "name": "python",
   "nbconvert_exporter": "python",
   "pygments_lexer": "ipython3",
   "version": "3.13.2"
  }
 },
 "nbformat": 4,
 "nbformat_minor": 5
}
